{
 "cells": [
  {
   "cell_type": "code",
   "execution_count": 5,
   "metadata": {},
   "outputs": [],
   "source": [
    "from surprise import SVD\n",
    "from surprise import KNNBaseline\n",
    "from surprise.model_selection import train_test_split\n",
    "from surprise.model_selection import LeaveOneOut\n",
    "\n",
    "import sys\n",
    "sys.path.insert(0, 'D:/git/Udemy_Building-Recommender-System-with-Machine-Learning-and-AI/Materials/Evaluating')"
   ]
  },
  {
   "cell_type": "markdown",
   "metadata": {},
   "source": [
    "## Movie Lens Module"
   ]
  },
  {
   "cell_type": "markdown",
   "metadata": {},
   "source": [
    "Import python module from materials"
   ]
  },
  {
   "cell_type": "code",
   "execution_count": null,
   "metadata": {},
   "outputs": [],
   "source": [
    "from MovieLens import MovieLens"
   ]
  },
  {
   "cell_type": "markdown",
   "metadata": {},
   "source": [
    "Create module from stretch"
   ]
  },
  {
   "cell_type": "code",
   "execution_count": 9,
   "metadata": {},
   "outputs": [],
   "source": [
    "#importing library\n",
    "\n",
    "import os\n",
    "import csv\n",
    "import sys\n",
    "import re\n",
    "import numpy as np\n",
    "\n",
    "from surprise import Dataset\n",
    "from surprise import Reader\n",
    "from collections import defaultdict"
   ]
  },
  {
   "cell_type": "code",
   "execution_count": null,
   "metadata": {},
   "outputs": [],
   "source": [
    "#create class movielens\n",
    "\n",
    "datasetsPath= 'D:/git/Udemy_Building-Recommender-System-with-Machine-Learning-and-AI/Datasets'\n",
    "\n",
    "class MovieLens:\n",
    "    \n",
    "    movieID_to_name= {}\n",
    "    name_to_movieID= {}\n",
    "    ratingsPath= datasetsPath+'/ratings.csv'\n",
    "    moviesPath= datasetsPath+'/movies.csv'\n",
    "\n",
    "    def loadMovieLensLatestSmall(self):\n",
    "        ratingsDataset= 0\n",
    "        self.movieID_to_name= {}\n",
    "        self.name_to_movieID= {}\n",
    "\n",
    "        reader= Reader(line_format='user item rating timestamp', sep=',', skip_lines=1)\n",
    "        ratingsDataset= Dataset.load_from_file(self.ratingsPath, reader= reader)\n",
    "\n",
    "        with open(self.moviesPath, newline='', encoding='ISO-8859-1') as csvfile:\n",
    "            movieReader= csv.reader(csvfile)\n",
    "            next(movieReader) #skip header line\n",
    "            for row in movieReader:\n",
    "                movieID= int(row[0])\n",
    "                movieName= row[1]\n",
    "                self.movieID_to_name[movieID]= movieName\n",
    "                self.movieID_to_name[movieName]= movieID\n",
    "        \n",
    "        return ratingsDataset\n",
    "\n",
    "    def getUserRatings(self, user):\n"
   ]
  },
  {
   "cell_type": "code",
   "execution_count": 11,
   "metadata": {},
   "outputs": [],
   "source": [
    "os.chdir(os.path.dirname(sys.argv[0]))"
   ]
  },
  {
   "cell_type": "markdown",
   "metadata": {},
   "source": [
    "## Recommender Metrics"
   ]
  },
  {
   "cell_type": "code",
   "execution_count": null,
   "metadata": {},
   "outputs": [],
   "source": [
    "#from RecommenderMetrics import RecommenderMetrics"
   ]
  },
  {
   "cell_type": "markdown",
   "metadata": {},
   "source": [
    "## Main Code"
   ]
  },
  {
   "cell_type": "code",
   "execution_count": 6,
   "metadata": {},
   "outputs": [
    {
     "data": {
      "text/plain": [
       "<surprise.dataset.DatasetAutoFolds at 0x1f858b71f40>"
      ]
     },
     "execution_count": 6,
     "metadata": {},
     "output_type": "execute_result"
    }
   ],
   "source": [
    "ml = MovieLens()\n",
    "data= ml.loadMovieLensLatestSmall()\n",
    "data"
   ]
  },
  {
   "cell_type": "code",
   "execution_count": 7,
   "metadata": {},
   "outputs": [
    {
     "name": "stdout",
     "output_type": "stream",
     "text": [
      "\n",
      "Computing movie popularity ranks so we can measure novelty later...\n"
     ]
    }
   ],
   "source": [
    "print(\"\\nComputing movie popularity ranks so we can measure novelty later...\")\n",
    "rankings = ml.getPopularityRanks()"
   ]
  },
  {
   "cell_type": "code",
   "execution_count": 8,
   "metadata": {},
   "outputs": [
    {
     "name": "stdout",
     "output_type": "stream",
     "text": [
      "\n",
      "Computing item similarities so we can measure diversity later...\n",
      "Estimating biases using als...\n",
      "Computing the pearson_baseline similarity matrix...\n",
      "Done computing similarity matrix.\n"
     ]
    },
    {
     "data": {
      "text/plain": [
       "<surprise.prediction_algorithms.knns.KNNBaseline at 0x1f84a562790>"
      ]
     },
     "execution_count": 8,
     "metadata": {},
     "output_type": "execute_result"
    }
   ],
   "source": [
    "print(\"\\nComputing item similarities so we can measure diversity later...\")\n",
    "fullTrainSet = data.build_full_trainset()\n",
    "sim_options = {'name': 'pearson_baseline', 'user_based': False}\n",
    "simsAlgo = KNNBaseline(sim_options=sim_options)\n",
    "simsAlgo.fit(fullTrainSet)"
   ]
  },
  {
   "cell_type": "code",
   "execution_count": null,
   "metadata": {},
   "outputs": [],
   "source": []
  }
 ],
 "metadata": {
  "interpreter": {
   "hash": "1baa965d5efe3ac65b79dfc60c0d706280b1da80fedb7760faf2759126c4f253"
  },
  "kernelspec": {
   "display_name": "Python 3.8.2 64-bit",
   "language": "python",
   "name": "python3"
  },
  "language_info": {
   "codemirror_mode": {
    "name": "ipython",
    "version": 3
   },
   "file_extension": ".py",
   "mimetype": "text/x-python",
   "name": "python",
   "nbconvert_exporter": "python",
   "pygments_lexer": "ipython3",
   "version": "3.8.2"
  },
  "orig_nbformat": 4
 },
 "nbformat": 4,
 "nbformat_minor": 2
}
